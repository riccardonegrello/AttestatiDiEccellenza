{
 "cells": [
  {
   "cell_type": "code",
   "execution_count": 1,
   "metadata": {
    "jupyter": {
     "source_hidden": true
    },
    "tags": []
   },
   "outputs": [],
   "source": [
    "from PIL import Image, ImageDraw, ImageFont\n",
    "import numpy as np\n",
    "from pathlib import Path\n",
    "import shutil"
   ]
  },
  {
   "cell_type": "code",
   "execution_count": 2,
   "metadata": {
    "jupyter": {
     "source_hidden": true
    },
    "tags": []
   },
   "outputs": [],
   "source": [
    "# settings\n",
    "font = ImageFont.truetype('font/times_new_roman.ttf', 28)\n",
    "month0 = \"gennaio\"\n",
    "month1 = \"febbraio\"\n",
    "yr = 2022\n",
    "nLecturesTot = 5\n",
    "bTestMode = False"
   ]
  },
  {
   "cell_type": "code",
   "execution_count": 3,
   "metadata": {
    "jupyter": {
     "source_hidden": true
    },
    "tags": []
   },
   "outputs": [],
   "source": [
    "# open attendance data\n",
    "ids, names_last, names_first, institutions, nLectures0, nHours0 = np.loadtxt(\"out_data/%s/presences_total.txt\" % yr, unpack=True, dtype=\"str\", delimiter=\", \")"
   ]
  },
  {
   "cell_type": "code",
   "execution_count": 4,
   "metadata": {
    "jupyter": {
     "source_hidden": true
    },
    "tags": []
   },
   "outputs": [
    {
     "name": "stdout",
     "output_type": "stream",
     "text": [
      "doing 0th diploma...\n",
      "doing 50th diploma...\n",
      "doing 100th diploma...\n",
      "doing 150th diploma...\n",
      "doing 200th diploma...\n",
      "all diplomas (217) done!\n"
     ]
    }
   ],
   "source": [
    "# create a directory for each institution\n",
    "shutil.rmtree(\"out_diplomas/%s\" % yr)\n",
    "Path(\"out_diplomas/%s\" % yr).mkdir(parents=True, exist_ok=True)\n",
    "for iInstitution in set(list(institutions)):\n",
    "    Path(\"out_diplomas/%s/%s\" % (yr, iInstitution)).mkdir(parents=True, exist_ok=True)\n",
    "\n",
    "# create & print diplomas\n",
    "for i in range(5 if bTestMode else len(ids)):\n",
    "    if(i%50 == 0):\n",
    "        print(\"doing %dth diploma...\" % i)\n",
    "    \n",
    "    # re-open blank template at each iteration\n",
    "    img = Image.open(\"raw_diploma/final_diploma_blank.jpg\")\n",
    "    draw = ImageDraw.Draw(img)\n",
    "\n",
    "    # add custom string\n",
    "    name_last = names_last[i]\n",
    "    name_first = names_first[i]\n",
    "    name_print = name_first + \" \" + name_last\n",
    "    institution = institutions[i]\n",
    "    nLectures = nLectures0[i]\n",
    "    nHours = nHours0[i]\n",
    "    string = \\\n",
    "    \"Si attesta che %s\\nha partecipato al Corso di Eccellenza per Scuole Secondarie di II grado\\norganizzato dal Corso di Laurea in Fisica dell'Università degli Studi di Ferrara\\ntra %s e %s %s, per un totale di %s seminari%s su %s (%s ore).\" % (name_print, month0, month1, yr, nLectures, \"o\" if nLectures==\"1\" else \"\", nLecturesTot, nHours)\n",
    "    draw.text(\n",
    "        (125, 431),\n",
    "        string,\n",
    "        (40,32,226),\n",
    "        font=font,\n",
    "        align=\"center\",\n",
    "    )\n",
    "\n",
    "    # print output PDF\n",
    "    img.save(\"out_diplomas/%s/%s/CdE%s_%s_%s.pdf\" % (yr, institution, yr, name_last.replace(\" \", \"\"), name_first.replace(\" \", \"\")))\n",
    "    del(img)\n",
    "    \n",
    "print(\"all diplomas (%d) done!\" % (5 if bTestMode else len(ids)))"
   ]
  },
  {
   "cell_type": "code",
   "execution_count": null,
   "metadata": {
    "jupyter": {
     "source_hidden": true
    },
    "tags": []
   },
   "outputs": [],
   "source": []
  },
  {
   "cell_type": "code",
   "execution_count": null,
   "metadata": {
    "jupyter": {
     "source_hidden": true
    },
    "tags": []
   },
   "outputs": [],
   "source": []
  }
 ],
 "metadata": {
  "kernelspec": {
   "display_name": "Python 3",
   "language": "python",
   "name": "python3"
  },
  "language_info": {
   "codemirror_mode": {
    "name": "ipython",
    "version": 3
   },
   "file_extension": ".py",
   "mimetype": "text/x-python",
   "name": "python",
   "nbconvert_exporter": "python",
   "pygments_lexer": "ipython3",
   "version": "3.9.2"
  }
 },
 "nbformat": 4,
 "nbformat_minor": 4
}
