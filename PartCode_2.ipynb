{
 "cells": [
  {
   "cell_type": "code",
   "execution_count": null,
   "id": "6330a34d-0a06-4412-995c-c12fd28a1001",
   "metadata": {},
   "outputs": [],
   "source": [
    "import pandas as pd\n",
    "\n",
    "nMin = 30\n",
    "\n",
    "locations = {\"REPC02000N\" : \"Liceo_Corso_Correggio_RE\" , \"REIS006005\" : \"Bertrand_Russell_Guastalla_RE\" ,\n",
    "             \"BOIS00700N\" : \"I.I.S._Archimede_San_Giovanni_BO\" , \"BOPC02000A\" : \"Liceo_Galvani_BO\" , \"BOPS01000V\" : \"Liceo_Righi_BO\" ,\n",
    "             \"FEIS00600L\" : \"ISIT_Bassi_Burgatti_BO\" , \"FEPC020005\" : \"Liceo_Ariosto_FE\" ,\n",
    "             \"FEPS00701V\" : \"Liceo_scientifico_Bondeno\" , \"FEPS01000N\" : \"Liceo_Roiti_FE\" , \"FOIS001002\" : \"Marie_curie_Savignano_Rubicone_FC\" ,\n",
    "             \"FOPC030008\" : \"Liceo_Monti_Cesena_FC\" , \"FOPS00101C\" : \"Marie_curie_Savignano_Rubicone_FC\" ,\n",
    "             \"FOPS010006\" : \"Liceo_Righi_Cesena_FC\" , \"LUPC003017\" : \"Liceo_Ariosto_Barga_LU\" \n",
    "             \"MCPS02000N\" : \"Liceo_Galilei_Macerata_MC\" , \"MITD330007\" : \"ITCS_Primo_Levi_Bollate_MI\" ,\n",
    "             \"MNIS00100X\" : \"Istituto_Manzoni_Suzzara_MN\" , \"MNIS00200Q\" : \"IISS_Galileo_Galilei_Ostiglia_MN\" ,\n",
    "             \"MNPC02000G\" : \"Liceo_Virgilio_MN\" , \"MOIS01900T\" : \"I.I.S_Volta_Sassuolo_MO\" ,\n",
    "             \"MOIS018002\" : \"iis_fermo_corni _Modena_MO\" , \"MOPC006013\" : \"Liceo_Pico_Mirandola_MO\" ,\n",
    "             \"MOPC00701V\" : \"Allegretti_Vignola_MO\" , \"MOPS04000L\" : \"Liceo_Morandi_Finale_MO\" ,\n",
    "             \"PDIS02300E\" : \"GB_Ferrari_Este_PD\" , \"PDPC02301T\" : \"GB_Ferrari_Este_PD\" ,\n",
    "             \"PSPS020006\" : \"Liceo_Marconi_Pesaro_PU\" , \"RAPS01000Q\" : \"Liceo_Oriani_Ravenna_RA\" ,\n",
    "             \"RNPC01000V\" : \"Liceo_Valgimigli_Rimini_RN\" , \"ROIS00100E\" : \"Liceo_Bocchi_Galilei_Adria_RO\" ,\n",
    "             \"ROPC00101T\" : \"Liceo_Bocchi_Galilei_Adria_RO\" , \"ROPM01000Q\" : \"Liceo_Roccati_Rovigo_RO\" ,\n",
    "             \"ROPS01000P\" : \"Liceo_Paleocapa_Rovigo_RO\" , \"VIIS00400E\" : \"Liceo_Masotto_Noventa_VI\" ,\n",
    "             \"VIPC010004\" : \"Liceo_Pigafetta_Vicenza_VI\" , \"VRIS01900L\" : \"Copernico_Pasoli_Verona_VR\" ,\n",
    "             \"VRPC01000C\" : \"Liceo_Cotta_Legnago_VR\" , \"VRPS00801L\" : \"Liceo_Roveggio_Bonifacio_VR\" ,\n",
    "             \"VRPS019013\" : \"Copernico_Pasoli_Verona_VR\" ,\n",
    "            }\n",
    "\n",
    "df_attend = pd.read_csv(r\"C:\\Users\\ricca\\Documents\\PhD\\Corso di eccellenza\\22_corso_eccellenza\\raw_data\\2023\\participants-sum.csv\", encoding=\"ISO-8859-1\")\n",
    "registered = r\"C:\\Users\\ricca\\Documents\\PhD\\Corso di eccellenza\\22_corso_eccellenza\\raw_data\\2023\\corso_eccellenza_iscritti.csv\"\n",
    "df_registered = pd.read_csv(registered, sep=\";\", usecols =[\"Nome\", \"Cognome\", \"Codice Meccanografico dell'Istituto\", \"Istituto di Appartenenza\"], encoding=\"ISO-8859-1\")\n",
    "\n",
    "df_registered[\"FullName\"] = df_registered['Nome'].astype(str) +\" \"+ df_registered[\"Cognome\"]\n",
    "df_registered[\"FullName\"] = [name.rstrip().title() for name in df_registered[\"FullName\"]]\n",
    "print(df_registered)\n",
    "df_temp= pd.DataFrame()\n",
    "for i in df_attend[\"Nome (nome originale)\"]:\n",
    "    df_temp[i] = df_attend[\"Nome (nome originale)\"][i].apply(lambda x : any([str(x) in x0 for x0 in df_registered[\"FullName\"]]))\n",
    "\n"
   ]
  }
 ],
 "metadata": {
  "kernelspec": {
   "display_name": "Python 3 (ipykernel)",
   "language": "python",
   "name": "python3"
  },
  "language_info": {
   "codemirror_mode": {
    "name": "ipython",
    "version": 3
   },
   "file_extension": ".py",
   "mimetype": "text/x-python",
   "name": "python",
   "nbconvert_exporter": "python",
   "pygments_lexer": "ipython3",
   "version": "3.9.13"
  }
 },
 "nbformat": 4,
 "nbformat_minor": 5
}
