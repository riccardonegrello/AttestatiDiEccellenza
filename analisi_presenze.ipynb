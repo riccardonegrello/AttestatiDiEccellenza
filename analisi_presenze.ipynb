{
 "cells": [
  {
   "cell_type": "code",
   "execution_count": 27,
   "metadata": {
    "tags": []
   },
   "outputs": [],
   "source": [
    "import numpy as np\n",
    "import pandas as pd"
   ]
  },
  {
   "cell_type": "markdown",
   "metadata": {},
   "source": [
    "---\n",
    "\n",
    "### general settings"
   ]
  },
  {
   "cell_type": "code",
   "execution_count": 28,
   "metadata": {
    "tags": []
   },
   "outputs": [],
   "source": [
    "# year (as a string)\n",
    "yr = \"2023\"\n",
    "\n",
    "# registered students file\n",
    "registered = r\"C:\\Users\\ricca\\Documents\\PhD\\Corso di eccellenza\\22_corso_eccellenza\\raw_data\\%s\\corso_eccellenza_iscritti.csv\" % yr\n",
    "\n",
    "# list of files from different meetings, in chronological order\n",
    "attendees = {\n",
    "    \"2021\" : [\n",
    "        \"./raw_data/%s/participants_99852188560_0.csv\" % yr,  # meeting 0\n",
    "        \"./raw_data/%s/participants_99852188560_1.csv\" % yr,  # meeting 1\n",
    "        \"./raw_data/%s/participants_99852188560_2.csv\" % yr,  # meeting 2\n",
    "        \"./raw_data/%s/participants_99852188560_3.csv\" % yr,  # meeting 3\n",
    "        \"./raw_data/%s/participants_99852188560_4.csv\" % yr,  # meeting 4\n",
    "        \"./raw_data/%s/participants_99852188560_5.csv\" % yr,  # meeting 5\n",
    "    ],\n",
    "    \"2022\" : [\n",
    "        \"./raw_data/%s/participants_61198073752.csv\" % yr,  # meeting 0\n",
    "        \"./raw_data/%s/participants_61198073752 (1).csv\" % yr,  # meeting 1\n",
    "        \"./raw_data/%s/participants_61198073752 (2).csv\" % yr,  # meeting 2\n",
    "        \"./raw_data/%s/participants_61198073752 (3).csv\" % yr,  # meeting 3\n",
    "        \"./raw_data/%s/participants_61198073752 (4).csv\" % yr,  # meeting 4\n",
    "    ],\n",
    "    \"2023\" : [\n",
    "        r\"C:\\Users\\ricca\\Documents\\PhD\\Corso di eccellenza\\22_corso_eccellenza\\raw_data\\%s\\participants_primo.csv\" % yr,  # meeting 0\n",
    "        r\"C:\\Users\\ricca\\Documents\\PhD\\Corso di eccellenza\\22_corso_eccellenza\\raw_data\\%s\\participants_quarto.csv\" % yr,  # meeting 1\n",
    "        r\"C:\\Users\\ricca\\Documents\\PhD\\Corso di eccellenza\\22_corso_eccellenza\\raw_data\\%s\\participants_quinto.csv\" % yr,  # meeting 2\n",
    "        r\"C:\\Users\\ricca\\Documents\\PhD\\Corso di eccellenza\\22_corso_eccellenza\\raw_data\\%s\\participants_secondo.csv\" % yr,  # meeting 3\n",
    "        r\"C:\\Users\\ricca\\Documents\\PhD\\Corso di eccellenza\\22_corso_eccellenza\\raw_data\\%s\\participants_terzo.csv\" % yr,  # meeting 4\n",
    "    ]\n",
    "}\n",
    "\n",
    "# minimum duration for \"long\" presence\n",
    "nMins = 10\n",
    "\n",
    "# list of codici meccanografici and corresponding institution names & locations (format: Name_Location)\n",
    "locations = {\n",
    "    \"APPS030005\" : \"Onesti_Fermo\",\n",
    "    \"BOPC02000A\" : \"Galvani_Bologna\",\n",
    "    \"BOPS00302T\" : \"Bruno_Medicina\",\n",
    "    \"BOPS01000V\" : \"Righi_Bologna\",\n",
    "    \"BOPS02000D\" : \"Fermi_Bologna\",\n",
    "    'BOPS02001E' : \"Fermi_Bologna\", \n",
    "    'BOPS030004' : \"Copernico_Bologna\", \n",
    "    'BSIS01200Q' : \"Montichiari_Brescia\",\n",
    "    'COPC020007' : \"Volta_Como\", \n",
    "    'CSPS03000G' : \"Scorza_Cosenza\", \n",
    "    'FEIS00100D' : \"Montalcini_Argenta\", \n",
    "    'FEIS004001' : \"Pomposa_Codigoro\",\n",
    "    'FEIS00700C' : \"Carducci_Ferrara\", \n",
    "    'FEPC020005' : \"Ariosto_Ferrara\", \n",
    "    'FEPM00701X' : \"Carducci_Ferrara\", \n",
    "    'FEPS00101X' : \"Montalcini_Argenta\",\n",
    "    'FEPS01000N' : \"Roiti_Ferrara\", \n",
    "    'FOPC04000' : \"Morgagni_Forli\", \n",
    "    'FOPC04000V' : \"Morgagni_Forli\", \n",
    "    'FOPS00101C' : \"Curie_SavignanoSulRubicone\",\n",
    "    'FOPS00101C ' : \"Curie_SavignanoSulRubicone\", \n",
    "    'FOPS00401X' : \"Ferrari_Cesenatico\", \n",
    "    'FOPS010006' : \"Righi_Cesena\", \n",
    "    'FOPS040002' : \"Fulcieri_Forli\",\n",
    "    'LIPS030007' : \"Cecioni_Livorno\", \n",
    "    'MCPC04000Q' : \"Leopardi_Macerata\", \n",
    "    'MCPC09000R' : \"Leopardi_Recanati\", \n",
    "    'MCPS02000N' : \"Galilei_Macerata\",\n",
    "    'MITD330007' : \"Levi_Bollate\", \n",
    "    'MNPS002016' : \"Galilei_Ostiglia\", \n",
    "    'MNPS010004' : \"Belfiore_Mantova\", \n",
    "    'MOPC00701V' : \"Paradisi_Vignola\",\n",
    "    'MOPS030002' : \"Fanti_Carpi\", \n",
    "    'MOPS04000L' : \"Morandi_FinaleEmilia\", \n",
    "    'MOPS080003' : \"Formiggini_Sassuolo\", \n",
    "    'PDIS003009' : \"CattaneoMattei_Monselice\",\n",
    "    'PDPS00301Q' : \"CattaneoMattei_Monselice\", \n",
    "    'PSPC03000N' : \"Mamiani_Pesaro\", \n",
    "    'PSPS020006' : \"Marconi_Pesaro\", \n",
    "    'RAPS01000Q' : \"Oriani_Ravenna\",\n",
    "    'REPC030008' : \"AriostoSpallanzani_ReggioEmilia\", \n",
    "    'REPS03000B' : \"Moro_ReggioEmilia\", \n",
    "    'RNFOPS00101C' : \"\", \n",
    "    'RNPC01000V' : \"Valgimigli_Rimini\",\n",
    "    'RNPS05000C' : \"Serpieri_Rimini\", \n",
    "    'RNPS060003' : \"Fellini_Riccione\", \n",
    "    'ROPM01000Q' : \"CelioRoccati_Rovigo\", \n",
    "    'ROPS01000P' : \"Paleocapa_Rovigo\", \n",
    "    'SS19510' : \"\",\n",
    "    'VEIS02300L' : \"BrunoFranchetti_Venezia\", \n",
    "    'VEPC02301X' : \"BrunoFranchetti_Venezia\", \n",
    "    'VEPS023013' : \"BrunoFranchetti_Venezia\", \n",
    "    'VIIS001003' : \"Trissino_Valdagno\",\n",
    "    'VIIS00200V' : \"DaVinci_Arzignano\", \n",
    "    'VIPC00101A' : \"Trissino_Valdagno\", \n",
    "    'VRIS01900L' : \"CopernicoPascoli_Verona\", \n",
    "    'VRPS019013' : \"CopernicoPascoli_Verona\",\n",
    "    'VRPS03000R' : \"Fracastoro_Verona\", \n",
    "    'VRPS04000B' : \"Messedaglia_Verona\",\n",
    "}"
   ]
  },
  {
   "cell_type": "markdown",
   "metadata": {},
   "source": [
    "---\n",
    "\n",
    "### data input and processing"
   ]
  },
  {
   "cell_type": "code",
   "execution_count": 29,
   "metadata": {
    "tags": []
   },
   "outputs": [
    {
     "name": "stdout",
     "output_type": "stream",
     "text": [
      "registered entries: 141\n"
     ]
    },
    {
     "data": {
      "text/html": [
       "<div>\n",
       "<style scoped>\n",
       "    .dataframe tbody tr th:only-of-type {\n",
       "        vertical-align: middle;\n",
       "    }\n",
       "\n",
       "    .dataframe tbody tr th {\n",
       "        vertical-align: top;\n",
       "    }\n",
       "\n",
       "    .dataframe thead th {\n",
       "        text-align: right;\n",
       "    }\n",
       "</style>\n",
       "<table border=\"1\" class=\"dataframe\">\n",
       "  <thead>\n",
       "    <tr style=\"text-align: right;\">\n",
       "      <th></th>\n",
       "      <th>fullname</th>\n",
       "      <th>duration</th>\n",
       "    </tr>\n",
       "  </thead>\n",
       "  <tbody>\n",
       "    <tr>\n",
       "      <th>0</th>\n",
       "      <td>Angelo Bloise</td>\n",
       "      <td>164</td>\n",
       "    </tr>\n",
       "    <tr>\n",
       "      <th>1</th>\n",
       "      <td>lorenzo pezzilli</td>\n",
       "      <td>151</td>\n",
       "    </tr>\n",
       "    <tr>\n",
       "      <th>2</th>\n",
       "      <td>Andrea Benini</td>\n",
       "      <td>108</td>\n",
       "    </tr>\n",
       "    <tr>\n",
       "      <th>3</th>\n",
       "      <td>Natalia Pasquini</td>\n",
       "      <td>106</td>\n",
       "    </tr>\n",
       "    <tr>\n",
       "      <th>4</th>\n",
       "      <td>Emanuele Bianchi</td>\n",
       "      <td>111</td>\n",
       "    </tr>\n",
       "    <tr>\n",
       "      <th>5</th>\n",
       "      <td>Niccolò Bimbatti</td>\n",
       "      <td>151</td>\n",
       "    </tr>\n",
       "    <tr>\n",
       "      <th>6</th>\n",
       "      <td>Gabriele Brunelli</td>\n",
       "      <td>147</td>\n",
       "    </tr>\n",
       "    <tr>\n",
       "      <th>7</th>\n",
       "      <td>Giulia Munerati</td>\n",
       "      <td>146</td>\n",
       "    </tr>\n",
       "    <tr>\n",
       "      <th>8</th>\n",
       "      <td>Giordano Pastorello</td>\n",
       "      <td>114</td>\n",
       "    </tr>\n",
       "    <tr>\n",
       "      <th>9</th>\n",
       "      <td>Enrico Barbuio</td>\n",
       "      <td>68</td>\n",
       "    </tr>\n",
       "    <tr>\n",
       "      <th>10</th>\n",
       "      <td>allegra cocchi</td>\n",
       "      <td>141</td>\n",
       "    </tr>\n",
       "    <tr>\n",
       "      <th>11</th>\n",
       "      <td>Sofia Moro</td>\n",
       "      <td>141</td>\n",
       "    </tr>\n",
       "    <tr>\n",
       "      <th>12</th>\n",
       "      <td>DAVIDE NOVELLI</td>\n",
       "      <td>140</td>\n",
       "    </tr>\n",
       "    <tr>\n",
       "      <th>13</th>\n",
       "      <td>anita mongaretto</td>\n",
       "      <td>140</td>\n",
       "    </tr>\n",
       "    <tr>\n",
       "      <th>14</th>\n",
       "      <td>Giada Girardi</td>\n",
       "      <td>138</td>\n",
       "    </tr>\n",
       "    <tr>\n",
       "      <th>15</th>\n",
       "      <td>Vittoria Piermarini</td>\n",
       "      <td>110</td>\n",
       "    </tr>\n",
       "    <tr>\n",
       "      <th>16</th>\n",
       "      <td>Antonio Peretto</td>\n",
       "      <td>138</td>\n",
       "    </tr>\n",
       "    <tr>\n",
       "      <th>17</th>\n",
       "      <td>Edoardo Lopresti</td>\n",
       "      <td>136</td>\n",
       "    </tr>\n",
       "    <tr>\n",
       "      <th>18</th>\n",
       "      <td>Emanuele Arduini</td>\n",
       "      <td>137</td>\n",
       "    </tr>\n",
       "    <tr>\n",
       "      <th>19</th>\n",
       "      <td>Thomas Piron</td>\n",
       "      <td>136</td>\n",
       "    </tr>\n",
       "  </tbody>\n",
       "</table>\n",
       "</div>"
      ],
      "text/plain": [
       "               fullname  duration\n",
       "0         Angelo Bloise       164\n",
       "1      lorenzo pezzilli       151\n",
       "2         Andrea Benini       108\n",
       "3      Natalia Pasquini       106\n",
       "4      Emanuele Bianchi       111\n",
       "5      Niccolò Bimbatti       151\n",
       "6     Gabriele Brunelli       147\n",
       "7       Giulia Munerati       146\n",
       "8   Giordano Pastorello       114\n",
       "9        Enrico Barbuio        68\n",
       "10       allegra cocchi       141\n",
       "11           Sofia Moro       141\n",
       "12       DAVIDE NOVELLI       140\n",
       "13     anita mongaretto       140\n",
       "14        Giada Girardi       138\n",
       "15  Vittoria Piermarini       110\n",
       "16      Antonio Peretto       138\n",
       "17     Edoardo Lopresti       136\n",
       "18     Emanuele Arduini       137\n",
       "19         Thomas Piron       136"
      ]
     },
     "execution_count": 29,
     "metadata": {},
     "output_type": "execute_result"
    }
   ],
   "source": [
    "# load all the data\n",
    "df_attendees = {}\n",
    "if yr==\"2021\":\n",
    "    df_registered = pd.read_csv(registered, sep=\",\", names=[\"surname\", \"firstName\", \"institution\"])\n",
    "    for i, iName in enumerate(attendees[yr]):\n",
    "        df_attendees[i] = pd.read_csv(iName, sep=\",\", skiprows=1, names=[\"nickname\", \"mail\", \"t0\", \"t1\", \"duration\", \"guest\", \"consent\"])\n",
    "        df_attendees[i] = df_attendees[i].drop(columns=[\"t0\", \"t1\", \"guest\", \"consent\"])\n",
    "        \n",
    "elif yr==\"2022\":\n",
    "    df_registered = pd.read_csv(registered, sep=\",\", names=[\"timestamp\", \"mail_comms\", \"firstName\", \"surname\", \"nickname\", \"mail_zoom\", \"institution\", \"year\"])\n",
    "    for i, iName in enumerate(attendees[yr]):\n",
    "        df_attendees[i] = pd.read_csv(iName, sep=\",\", skiprows=4, names=[\"nickname\", \"mail\", \"t0\", \"t1\", \"duration\", \"guest\"])\n",
    "        df_attendees[i] = df_attendees[i].drop(columns=[\"t0\", \"t1\", \"guest\"])\n",
    "        \n",
    "    print(\"registered entries: %d\" % df_registered.shape[0])\n",
    "\n",
    "elif yr==\"2023\":\n",
    "    df_registered = pd.read_csv(registered, sep=\";\", names=[\"timestamp\", \"firstName\", \"surname\", \"mail_comms\", \"institution\", \"city\", \"study_course\", \"grade\",  \"Mec_code\", \"emailaddress\", \"province\"], encoding=\"ISO-8859-1\")\n",
    "    for i, iName in enumerate(attendees[yr]):\n",
    "        df_attendees[i] = pd.read_csv(iName, sep=\",\", header=2, names=[\"fullname\", \"mail\", \"duration\", \"guest\"])\n",
    "        df_attendees[i] = df_attendees[i].drop(columns=[\"mail\", \"guest\"])\n",
    "        \n",
    "    print(\"registered entries: %d\" % df_registered.shape[0])\n",
    "df_attendees[1].head(20)\n",
    "\n"
   ]
  },
  {
   "cell_type": "code",
   "execution_count": 31,
   "metadata": {
    "tags": []
   },
   "outputs": [],
   "source": [
    "# data preparation -- df_registered\n",
    "if yr==\"2021\":\n",
    "    for s in [col for col in df_registered.columns.unique() if col!=\"institution\"]:\n",
    "        df_registered[s] = df_registered[s].str.lower()\n",
    "        df_registered[s] = df_registered[s].fillna(\"\")\n",
    "        df_registered[s] = df_registered[s].str.replace(\"\\t\", \" \")\n",
    "        if s==\"firstName\":\n",
    "            originalNamesBak = df_registered[s].copy()  # make a backup of the original names (cleaned fron nan and \\t signs) before removing the accents\n",
    "        df_registered[s] = df_registered[s].str.replace(\"à\", \"a\").str.replace(\"è\", \"e\").str.replace(\"ì\", \"i\").str.replace(\"ò\", \"o\").str.replace(\"ù\", \"u\")\n",
    "    df_registered[\"firstName1\"] = pd.Series([s[0] if len(s)>0 else \"\" for s in df_registered[\"firstName\"].str.split()])  # first of the names in the first name\n",
    "    df_registered[\"firstName2\"] = pd.Series([s[1] if len(s)>1 else \"~NONE~\" for s in df_registered[\"firstName\"].str.split()])  # second of the names in the first name\n",
    "elif yr==\"2022\":\n",
    "    for s in [col for col in df_registered.columns.unique() if (col==\"firstName\")|(col==\"surname\")|(col==\"nickname\")|(col==\"email_zoom\")]:\n",
    "        df_registered[s] = df_registered[s].str.lower()\n",
    "        df_registered[s] = df_registered[s].fillna(\"\")\n",
    "        df_registered[s] = df_registered[s].str.replace(\"\\t\", \" \")\n",
    "        df_registered[s] = df_registered[s].str.rstrip()\n",
    "        if s==\"firstName\":\n",
    "            originalNamesBak = df_registered[s].copy()  # make a backup of the original names (cleaned fron nan and \\t signs) before removing the accents\n",
    "        if s==\"nickname\":\n",
    "            originalNicknamesBak = df_registered[s].copy()  # make a backup of the original names (cleaned fron nan and \\t signs) before removing the accents\n",
    "        df_registered[s] = df_registered[s].str.replace(\"à\", \"a\").str.replace(\"è\", \"e\").str.replace(\"ì\", \"i\").str.replace(\"ò\", \"o\").str.replace(\"ù\", \"u\")\n",
    "    df_registered[\"firstName1\"] = pd.Series([s[0] if len(s)>0 else \"\" for s in df_registered[\"firstName\"].str.split()])  # first of the names in the first name\n",
    "    df_registered[\"firstName2\"] = pd.Series([s[1] if len(s)>1 else \"~NONE~\" for s in df_registered[\"firstName\"].str.split()])  # second of the names in the first name\n",
    "    df_registered[\"institution\"] = df_registered[\"institution\"].str.upper()  # institution codes are all-uppercase\n",
    "\n",
    "elif yr==\"2023\":\n",
    "    for s in [col for col in df_registered.columns.unique() if (col==\"firstName\")|(col==\"surname\")]:\n",
    "        df_registered[s] = df_registered[s].str.lower()\n",
    "        df_registered[s] = df_registered[s].fillna(\"\")\n",
    "        df_registered[s] = df_registered[s].str.replace(\"\\t\", \" \")\n",
    "        df_registered[s] = df_registered[s].str.rstrip()\n",
    "        if s==\"firstName\":\n",
    "            originalNamesBak = df_registered[s].copy()  # make a backup of the original names (cleaned fron nan and \\t signs) before removing the accents\n",
    "        df_registered[s] = df_registered[s].str.replace(\"à\", \"a\").str.replace(\"è\", \"e\").str.replace(\"ì\", \"i\").str.replace(\"ò\", \"o\").str.replace(\"ù\", \"u\")\n",
    "    df_registered[\"firstName1\"] = pd.Series([s[0] if len(s)>0 else \"\" for s in df_registered[\"firstName\"].str.split()])  # first of the names in the first name\n",
    "    df_registered[\"firstName2\"] = pd.Series([s[1] if len(s)>1 else \"~NONE~\" for s in df_registered[\"firstName\"].str.split()])  # second of the names in the first name\n",
    "    df_registered[\"institution\"] = df_registered[\"institution\"].str.upper()  # institution codes are all-uppercase\n",
    "\n",
    "# data preparation -- df_attendees[X]\n",
    "for i in range(len(attendees[yr])):\n",
    "    for s in [s0 for s0 in df_attendees[i].columns.unique() if not (s0==\"duration\")]:\n",
    "        df_attendees[i][s] = df_attendees[i][s].str.lower()\n",
    "        df_attendees[i][s] = df_attendees[i][s].str.replace(\"à\", \"a\").str.replace(\"è\", \"e\").str.replace(\"ì\", \"i\").str.replace(\"ò\", \"o\").str.replace(\"ù\", \"u\")"
   ]
  },
  {
   "cell_type": "markdown",
   "metadata": {},
   "source": [
    "**settings** on manual nickname tweaking in attendees data:"
   ]
  },
  {
   "cell_type": "code",
   "execution_count": 32,
   "metadata": {
    "tags": []
   },
   "outputs": [],
   "source": [
    "# manual nickname tweakings (2021)\n",
    "if yr==\"2021\":\n",
    "    for i in range(len(attendees[yr])):\n",
    "        df_attendees[i].loc[df_attendees[i].nickname==\"shery nazim\", \"nickname\"] = df_attendees[i].nickname.apply(lambda s: s.replace(\"shery\", \"sheryar\"))\n",
    "        df_attendees[i].loc[df_attendees[i].nickname==\"arian bihis\", \"nickname\"] = df_attendees[i].nickname.apply(lambda s: s.replace(\"arian\", \"arianna\"))\n",
    "        df_attendees[i].loc[df_attendees[i].nickname==\"vimin soulmates\", \"nickname\"] = df_attendees[i].nickname.apply(lambda s: s.replace(\"vimin soulmates\", \"dancelli giorgia\"))\n",
    "        df_attendees[i].loc[df_attendees[i].nickname==\"niccolo cavaliere\", \"nickname\"] = df_attendees[i].nickname.apply(lambda s: s.replace(\"niccolo\", \"giuseppe\"))\n",
    "        df_attendees[i].loc[df_attendees[i].nickname==\"nathasha warnakula\", \"nickname\"] = df_attendees[i].nickname.apply(lambda s: s.replace(\"nathasha warnakula\", \"sewmi nathasha warnakula rowel\"))\n",
    "        df_attendees[i].loc[df_attendees[i].nickname==\"aurora losciuto\", \"nickname\"] = df_attendees[i].nickname.apply(lambda s: s.replace(\"losciuto\", \"lo sciuto\"))\n",
    "        df_attendees[i].loc[df_attendees[i].nickname==\"lorenzo\", \"nickname\"] = df_attendees[i].nickname.apply(lambda s: s.replace(\"lorenzo\", \"lorenzo varesio\"))\n",
    "        df_attendees[i].loc[df_attendees[i].nickname==\"massimo spanu\", \"nickname\"] = df_attendees[i].nickname.apply(lambda s: s.replace(\"massimo\", \"matteo\"))\n",
    "        \n",
    "if yr==\"2022\":\n",
    "    for i in range(len(attendees[yr])):\n",
    "        df_attendees[i].loc[df_attendees[i].nickname==\"giulio\", \"nickname\"] = df_attendees[i].nickname.apply(lambda s: s.replace(\"giulio\", \"giulio gambi\"))\n",
    "        df_attendees[i].loc[df_attendees[i].nickname==\"celeste streccioni\", \"nickname\"] = df_attendees[i].nickname.apply(lambda s: s.replace(\"celeste\", \"mariaceleste\"))\n",
    "        df_attendees[i].loc[df_attendees[i].nickname==\"iistrissino-4tb-duma-david-sorin (david duma)\", \"nickname\"] = df_attendees[i].nickname.apply(lambda s: s.replace(\"iistrissino-4tb-duma-david-sorin (david duma)\", \"iistrissino_4tb_duma_david_sorin\"))"
   ]
  },
  {
   "cell_type": "code",
   "execution_count": 33,
   "metadata": {
    "tags": []
   },
   "outputs": [],
   "source": [
    "# create all possible registered name combinations -- basic, more complex cases below...\n",
    "df_registered[\"surname-firstName\"] = df_registered.surname+\" \"+df_registered.firstName  # rossi mario luigi\n",
    "df_registered[\"firstName-surname\"] = df_registered.firstName+\" \"+df_registered.surname  # mario luigi rossi\n",
    "df_registered[\"surnamefirstName\"] = df_registered.surname.str.replace(\" \", \"\")+df_registered.firstName.str.replace(\" \", \"\")  # rossimarioluigi\n",
    "df_registered[\"firstNamesurname\"] = df_registered.firstName.str.replace(\" \", \"\")+df_registered.surname.str.replace(\" \", \"\")  # marioluigirossi\n",
    "\n",
    "df_registered[\"surname-firstName1\"] = df_registered.surname+\" \"+df_registered.firstName1  # rossi mario\n",
    "df_registered[\"firstName1-surname\"] = df_registered.firstName1+\" \"+df_registered.surname  # mario rossi\n",
    "df_registered[\"surnamefirstName1\"] = df_registered.surname.str.replace(\" \", \"\")+df_registered.firstName1.str.replace(\" \", \"\")  # rossimario\n",
    "df_registered[\"firstName1surname\"] = df_registered.firstName1.str.replace(\" \", \"\")+df_registered.surname.str.replace(\" \", \"\")  # mariorossi\n",
    "\n",
    "df_registered[\"surname-firstName2\"] = df_registered.surname+\" \"+df_registered.firstName2  # rossi luigi\n",
    "df_registered[\"firstName2-surname\"] = df_registered.firstName2+\" \"+df_registered.surname  # luigi rossi\n",
    "df_registered[\"surnamefirstName2\"] = df_registered.surname.str.replace(\" \", \"\")+df_registered.firstName2.str.replace(\" \", \"\")  # rossiluigi\n",
    "df_registered[\"firstName2surname\"] = df_registered.firstName2.str.replace(\" \", \"\")+df_registered.surname.str.replace(\" \", \"\")  # luigirossi"
   ]
  },
  {
   "cell_type": "code",
   "execution_count": 6,
   "metadata": {
    "tags": []
   },
   "outputs": [],
   "source": [
    "# function to find presence to each meeting...\n",
    "if yr==\"2021\":\n",
    "    def check_presence(df_registered, df_attendees, i, nMins):\n",
    "        dfTemp = pd.DataFrame()\n",
    "        compare = list(df_attendees[i].nickname.unique()) if (nMins is None) else list(df_attendees[i][df_attendees[i].duration > nMins].nickname.unique())\n",
    "        compare = [s0 for s0 in compare if str(s0) != \"nan\"]\n",
    "        for s in [s0 for s0 in df_registered.columns.unique() if ((s0!=\"firstName\") & (s0!=\"firstName1\") & (s0!=\"firstName2\") & (s0!=\"surname\") & (s0!=\"institution\") & (not (\"presence\" in s0)))]:\n",
    "            dfTemp[s] = df_registered[s].apply(lambda x: any([str(x) in x0 for x0 in compare]))  # previously defined case looked for in list of attendees\n",
    "\n",
    "        # more particular cases: \"mario luigi\" & \"rossi\" inside more complicated nickname string\n",
    "        dfTemp[\"firstNameANDsurname\"] = df_registered.apply(lambda x: any([(str(x.surname) in x0 and str(x.firstName) in x0) for x0 in compare]), axis=1)\n",
    "        # more particular cases: \"mario\" & \"rossi\" inside more complicated nickname string\n",
    "        dfTemp[\"firstName1ANDsurname\"] = df_registered.apply(lambda x: any([(str(x.surname) in x0 and str(x.firstName1) in x0) for x0 in compare]), axis=1)\n",
    "        # more particular cases: \"luigi\" & \"rossi\" inside more complicated nickname string\n",
    "        dfTemp[\"firstName2ANDsurname\"] = df_registered.apply(lambda x: any([(str(x.surname) in x0 and str(x.firstName2) in x0) for x0 in compare]), axis=1)\n",
    "        # more particular cases: \"mario\" & \"luigi\" & \"rossi\" inside more complicated nickname string\n",
    "        dfTemp[\"firstName1ANDfirstName2ANDsurname\"] = df_registered.apply(lambda x: any([(str(x.surname) in x0 and str(x.firstName1) and str(x.firstName2) in x0) for x0 in compare]), axis=1)\n",
    "        # more particular cases: \"m.\" & \"rossi\" inside more complicated nickname string\n",
    "        dfTemp[\"firstName1ANDsurname_alsoInitials\"] = df_registered.apply(lambda x: any([(str(x.surname) in x0 and (str(x.firstName1)[0]+\".\" if len(x.firstName1)>0 else \"\") in x0) for x0 in compare]), axis=1)\n",
    "        # more particular cases: \"l.\" & \"rossi\" inside more complicated nickname string\n",
    "        dfTemp[\"firstName2ANDsurname_alsoInitials\"] = df_registered.apply(lambda x: any([(str(x.surname) in x0 and (str(x.firstName2)[0]+\".\" if len(x.firstName2)>0 else \"\") in x0) for x0 in compare]), axis=1)\n",
    "        # more particular cases: \"m.\" & \"l.\" & \"rossi\" inside more complicated nickname string\n",
    "        dfTemp[\"firstName1ANDfirstName2ANDsurname_alsoInitials\"] = df_registered.apply(lambda x: any([(str(x.surname) in x0 and (str(x.firstName1)[0]+\".\" if len(x.firstName1)>0 else \"\") and (str(x.firstName2)[0]+\".\" if len(x.firstName2)>0 else \"\") in x0) for x0 in compare]), axis=1)\n",
    "\n",
    "        outSeries = dfTemp.apply(any, axis=1)  # at least 1 case has to be true in the list of attendees\n",
    "        return outSeries, dfTemp\n",
    "elif yr==\"2022\":\n",
    "    def check_presence(df_registered, df_attendees, i, nMins):\n",
    "        dfTemp = pd.DataFrame()\n",
    "        compare_nickname = list(df_attendees[i].nickname.unique()) if (nMins is None) else list(df_attendees[i][df_attendees[i].duration > nMins].nickname.unique())\n",
    "        compare_nickname = [s0 for s0 in compare_nickname if str(s0) != \"nan\"]\n",
    "        compare_mail = list(df_attendees[i].mail.unique()) if (nMins is None) else list(df_attendees[i][df_attendees[i].duration > nMins].mail.unique())\n",
    "        compare_mail = [s0 for s0 in compare_mail if str(s0) != \"nan\"]\n",
    "        dfTemp[\"nickname\"] = df_registered[\"nickname\"].apply(lambda x: any([str(x) in x0 for x0 in compare_nickname]))\n",
    "        dfTemp[\"mail\"] = df_registered[\"mail_zoom\"].apply(lambda x: any([str(x) in x0 for x0 in compare_mail]))\n",
    "        \n",
    "        # more particular cases: \"mario luigi\" & \"rossi\" inside more complicated nickname string\n",
    "        dfTemp[\"firstNameANDsurname\"] = df_registered.apply(lambda x: any([(str(x.surname) in x0 and str(x.firstName) in x0) for x0 in compare_nickname]), axis=1)\n",
    "\n",
    "        outSeries = dfTemp.apply(any, axis=1)  # at least 1 case has to be true in the list of attendees\n",
    "        return outSeries, dfTemp\n",
    "elif yr==\"2023\":\n",
    "    def check_presence(df_attendees, i, nMins):\n",
    "        \n",
    "# ...applied to all the meetings\n",
    "for i in range(len(attendees[yr])):\n",
    "    df_registered[\"presence_\"+str(i)], _ = check_presence(df_registered, df_attendees, i, None)\n",
    "    df_registered[\"presence_long_\"+str(i)], _ = check_presence(df_registered, df_attendees, i, nMins)"
   ]
  },
  {
   "cell_type": "code",
   "execution_count": 7,
   "metadata": {
    "tags": []
   },
   "outputs": [
    {
     "name": "stdout",
     "output_type": "stream",
     "text": [
      "found 12 multiple entries among registered students!\n",
      "registered entries without multiples: 255\n"
     ]
    }
   ],
   "source": [
    "# create output dataframe\n",
    "df_output0 = pd.DataFrame(originalNicknamesBak, columns=[\"nickname\"])\n",
    "df_output1 = pd.DataFrame(originalNamesBak, columns=[\"firstName\"])\n",
    "df_output2 = pd.DataFrame(df_registered, columns=[\"surname\", \"institution\"]+[\"presence_\"+str(i) for i in range(len(attendees[yr]))]+[\"presence_long_\"+str(i) for i in range(len(attendees[yr]))])\n",
    "df_output = pd.concat([df_output0.reset_index(drop=True), df_output1.reset_index(drop=True), df_output2.reset_index(drop=True)], axis=1)\n",
    "\n",
    "# re-capitalise all the names\n",
    "df_output[\"firstName\"] = df_output[\"firstName\"].str.title()\n",
    "df_output[\"surname\"] = df_output[\"surname\"].str.title()\n",
    "\n",
    "# from 2022 on: check for duplication conflicts and solve them\n",
    "if yr!=\"2021\":\n",
    "    df_output[\"isDuplicate\"] = df_output[[\"firstName\", \"surname\", \"institution\"]].duplicated(keep=False)\n",
    "    lsDuplicated = np.array([df_output[df_output.isDuplicate].firstName.to_list(), df_output[df_output.isDuplicate].surname.to_list(), df_output[df_output.isDuplicate].institution.to_list()]).T.tolist()\n",
    "    lsDuplicated = list(map(list, set(map(lambda i: tuple(i), lsDuplicated))))\n",
    "    print(\"found %d multiple entries among registered students!\" % len(lsDuplicated))\n",
    "    for duplicatedEntry in lsDuplicated:\n",
    "        df_output_temp = df_output[(df_output.firstName==duplicatedEntry[0]) & (df_output.surname==duplicatedEntry[1]) & (df_output.institution==duplicatedEntry[2])]\n",
    "        df_output_sol = df_output_temp.iloc[0].to_frame().transpose()\n",
    "        for presenceCol in [s for s in df_output_temp.columns if \"presence_\" in s]:\n",
    "            df_output_sol[presenceCol] = any(df_output_temp[presenceCol])\n",
    "        df_output_sol[\"isDuplicate\"] = False\n",
    "        df_output = pd.concat([df_output, df_output_sol])\n",
    "    df_output = df_output[~df_output.isDuplicate]\n",
    "    df_output = df_output.reset_index(drop=True)\n",
    "    print(\"registered entries without multiples: %d\" % df_output.shape[0])"
   ]
  },
  {
   "cell_type": "code",
   "execution_count": 8,
   "metadata": {
    "tags": []
   },
   "outputs": [
    {
     "name": "stdout",
     "output_type": "stream",
     "text": [
      "warning: RNFOPS00101C not in list of institution locations or empty entry!\n",
      "warning: SS19510 not in list of institution locations or empty entry!\n",
      "registered institutions: 49 (2 are LOCATION_MISSING)\n"
     ]
    }
   ],
   "source": [
    "# replace codice meccanografico with institution name & location\n",
    "if yr!=\"2021\":\n",
    "    for s in df_output.institution.unique():\n",
    "        if ((s in locations.keys()) & (locations[s] != \"\")):\n",
    "            df_output.loc[df_output.institution==s, \"institution_full\"] = locations[s]\n",
    "        else:\n",
    "            df_output.loc[df_output.institution==s, \"institution_full\"] = \"LOCATION_MISSING/%s\" % s\n",
    "            print(\"warning: %s not in list of institution locations or empty entry!\" % s)\n",
    "            \n",
    "lsLocationsFinal = df_output[\"institution\" if yr==\"2021\" else \"institution_full\"].unique()\n",
    "print(\"registered institutions: %d (%d are LOCATION_MISSING)\" % (len(lsLocationsFinal), len([s for s in lsLocationsFinal if \"LOCATION_MISSING\" in s])))"
   ]
  },
  {
   "cell_type": "markdown",
   "metadata": {},
   "source": [
    "---\n",
    "\n",
    "### single-meeting (online) analysis"
   ]
  },
  {
   "cell_type": "markdown",
   "metadata": {},
   "source": [
    "list of registered students absent at a certain meeting (selectable in the cell)"
   ]
  },
  {
   "cell_type": "code",
   "execution_count": 9,
   "metadata": {
    "tags": []
   },
   "outputs": [
    {
     "name": "stdout",
     "output_type": "stream",
     "text": [
      "no lecture selected, skipping this...\n"
     ]
    }
   ],
   "source": [
    "iMeeting = None  # index of the selected meeting; if None, skip this cell\n",
    "\n",
    "if not (iMeeting is None):\n",
    "    print(\"ABSENT AT LECTURE %d:\" % iMeeting)\n",
    "    dfBool = df_output[\"presence_%s\" % iMeeting]==False\n",
    "    for i, s in enumerate(df_output[dfBool].surname+\" \"+df_output[dfBool].firstName):\n",
    "        print(\"%3d\" % i, s)\n",
    "else:\n",
    "    print(\"no lecture selected, skipping this...\")"
   ]
  },
  {
   "cell_type": "markdown",
   "metadata": {},
   "source": [
    "**output file** list of presences (for >10 minutes) at a certain meeting &mdash; done for all meetings"
   ]
  },
  {
   "cell_type": "code",
   "execution_count": 10,
   "metadata": {
    "tags": []
   },
   "outputs": [
    {
     "name": "stdout",
     "output_type": "stream",
     "text": [
      "presence file written for lecture 0\n",
      "presence file written for lecture 1\n",
      "presence file written for lecture 2\n",
      "presence file written for lecture 3\n",
      "presence file written for lecture 4\n"
     ]
    }
   ],
   "source": [
    "for iMeeting in range(len(attendees[yr])):\n",
    "    nameMaxWidths = (df_output[\"surname\"].apply(lambda x : len(x)).max() + 2, df_output[\"surname\"].apply(lambda x : len(x)).max() + 3)\n",
    "    with open(\"./out_data/%s/presences_lecture%s.txt\" % (yr, iMeeting), \"w+\") as f:\n",
    "        for i in df_output.index:\n",
    "            rowName = (df_output[\"surname\"][i]+\",\", df_output[\"firstName\"][i]+\",\")\n",
    "            print(\"%4d,\" % i, \"\".join((val.ljust(width) for val, width in zip(rowName[0:2], nameMaxWidths))), \"\" if df_output[\"presence_long_%s\" % iMeeting][i] else \"absent\", file=f)\n",
    "    print(\"presence file written for lecture %s\" % iMeeting)"
   ]
  },
  {
   "cell_type": "markdown",
   "metadata": {},
   "source": [
    "---\n",
    "\n",
    "### final analysis"
   ]
  },
  {
   "cell_type": "markdown",
   "metadata": {},
   "source": [
    "number of lectures attended\n",
    "\n",
    "also **setting** manual tweaking to output data (only nLectures):"
   ]
  },
  {
   "cell_type": "code",
   "execution_count": 11,
   "metadata": {
    "tags": []
   },
   "outputs": [
    {
     "name": "stdout",
     "output_type": "stream",
     "text": [
      "nr. of attenders to 0 lectures = 38\n",
      "nr. of attenders to 1 lectures = 25\n",
      "nr. of attenders to 2 lectures = 16\n",
      "nr. of attenders to 3 lectures = 29\n",
      "nr. of attenders to 4 lectures = 54\n",
      "nr. of attenders to 5 lectures = 93\n"
     ]
    }
   ],
   "source": [
    "# add nr. of lectures attended\n",
    "lsPresences = [s for s in df_output.columns if \"presence_long_\" in s]\n",
    "df_output[\"nLectures\"] = df_output[lsPresences].sum(axis=1)\n",
    "\n",
    "# # # # # # # # # # # # # # # # # # # # # # # # # # # # # # \n",
    "# manual tweakings to output -- nLectures\n",
    "if yr==\"2021\":\n",
    "    df_output.loc[df_output.surname==\"Giaquinto\", \"nLectures\"] = 3\n",
    "    \n",
    "if yr==\"2022\":\n",
    "    df_output.loc[(df_output.surname==\"Orlandini\")&(df_output.firstName==\"Andrea\"), \"nLectures\"] = 5\n",
    "    df_output.loc[(df_output.surname==\"Grossi\")&(df_output.firstName==\"Samuele\"), \"nLectures\"] = 2\n",
    "    df_output.loc[(df_output.surname==\"Ravello\")&(df_output.firstName==\"Gaia\"), \"nLectures\"] = 4\n",
    "# # # # # # # # # # # # # # # # # # # # # # # # # # # # # # \n",
    "\n",
    "for i in range(len(attendees[yr])+1):\n",
    "    print(\"nr. of attenders to %d lectures = %d\" % (i, df_output[df_output.nLectures == i].shape[0]))"
   ]
  },
  {
   "cell_type": "markdown",
   "metadata": {},
   "source": [
    "**output file** list of attenders to 0 lectures"
   ]
  },
  {
   "cell_type": "code",
   "execution_count": 12,
   "metadata": {
    "tags": []
   },
   "outputs": [
    {
     "name": "stdout",
     "output_type": "stream",
     "text": [
      "list of attenders to 0 lectures written\n"
     ]
    }
   ],
   "source": [
    "if yr==\"2021\":\n",
    "    with open(\"./out_data/%s/attenders_zero_lectures.txt\" % yr, \"w+\") as f:\n",
    "        for i in df_output.index:\n",
    "            if df_output.nLectures[i]==0:\n",
    "                print(\"%4d,\" % i, df_output[\"surname\"][i]+\",\", df_output[\"firstName\"][i]+\",\", df_output[\"institution\"][i], file=f)\n",
    "else:\n",
    "    with open(\"./out_data/%s/attenders_zero_lectures.txt\" % yr, \"w+\") as f:\n",
    "        for i in df_output.index:\n",
    "            if df_output.nLectures[i]==0:\n",
    "                print(\"%4d,\" % i, df_output[\"surname\"][i]+\",\", df_output[\"firstName\"][i]+\",\", df_output[\"nickname\"][i]+\",\", df_output[\"institution_full\"][i], file=f)\n",
    "print(\"list of attenders to 0 lectures written\")"
   ]
  },
  {
   "cell_type": "markdown",
   "metadata": {},
   "source": [
    "**output file** number of lectures (and hours) attended per registered name (only those who attended to at least 1 lecture) &mdash; specific format for diplomas.ipynb"
   ]
  },
  {
   "cell_type": "code",
   "execution_count": 13,
   "metadata": {
    "tags": []
   },
   "outputs": [
    {
     "name": "stdout",
     "output_type": "stream",
     "text": [
      "final presence file written\n"
     ]
    }
   ],
   "source": [
    "nameMaxWidths = (df_output[\"surname\"].apply(lambda x : len(x)).max() + 1, df_output[\"surname\"].apply(lambda x : len(x)).max() + 2)\n",
    "with open(\"./out_data/%s/presences_total.txt\" % yr, \"w+\") as f:\n",
    "    for i in df_output.index:\n",
    "        if df_output[\"nLectures\"][i]>0:\n",
    "            print(\"%4d,\" % i, df_output[\"surname\"][i]+\",\", df_output[\"firstName\"][i]+\",\", df_output[\"institution\" if yr==\"2021\" else \"institution_full\"][i]+\",\", str(df_output[\"nLectures\"][i])+\",\", 2*df_output[\"nLectures\"][i], file=f)\n",
    "print(\"final presence file written\")"
   ]
  },
  {
   "cell_type": "code",
   "execution_count": null,
   "metadata": {
    "tags": []
   },
   "outputs": [],
   "source": []
  },
  {
   "cell_type": "code",
   "execution_count": null,
   "metadata": {
    "tags": []
   },
   "outputs": [],
   "source": []
  },
  {
   "cell_type": "code",
   "execution_count": null,
   "metadata": {
    "tags": []
   },
   "outputs": [],
   "source": []
  }
 ],
 "metadata": {
  "kernelspec": {
   "display_name": "Python 3 (ipykernel)",
   "language": "python",
   "name": "python3"
  },
  "language_info": {
   "codemirror_mode": {
    "name": "ipython",
    "version": 3
   },
   "file_extension": ".py",
   "mimetype": "text/x-python",
   "name": "python",
   "nbconvert_exporter": "python",
   "pygments_lexer": "ipython3",
   "version": "3.9.13"
  }
 },
 "nbformat": 4,
 "nbformat_minor": 4
}
